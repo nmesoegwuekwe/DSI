{
  "cells": [
    {
      "cell_type": "markdown",
      "metadata": {
        "id": "view-in-github",
        "colab_type": "text"
      },
      "source": [
        "<a href=\"https://colab.research.google.com/github/gno-lit/DSI/blob/main/Pre-assignment/DSI_Pre_Assignment_(Python).ipynb\" target=\"_parent\"><img src=\"https://colab.research.google.com/assets/colab-badge.svg\" alt=\"Open In Colab\"/></a>"
      ]
    },
    {
      "cell_type": "markdown",
      "source": [
        "# INTRODUCTION\n",
        "This is my submission for the DSI pre-assignment for Python.\n",
        "\n",
        "Github account is found [here](https://github.com/gno-lit)\n",
        "\n",
        "The repo for the assignment can be found [here](https://github.com/gno-lit/DSI)\n",
        "\n",
        "\n",
        "\n"
      ],
      "metadata": {
        "id": "x_o8-8Pghc89"
      },
      "id": "x_o8-8Pghc89"
    },
    {
      "cell_type": "markdown",
      "id": "e026f7fe",
      "metadata": {
        "id": "e026f7fe"
      },
      "source": [
        "### Imports"
      ]
    },
    {
      "cell_type": "code",
      "execution_count": 1,
      "id": "467e4887",
      "metadata": {
        "id": "467e4887"
      },
      "outputs": [],
      "source": [
        "import numpy as np\n",
        "import pandas as pd\n",
        "import matplotlib.pyplot as plt"
      ]
    },
    {
      "cell_type": "code",
      "execution_count": 2,
      "id": "70afe90e",
      "metadata": {
        "colab": {
          "base_uri": "https://localhost:8080/"
        },
        "id": "70afe90e",
        "outputId": "edb18126-868e-43cd-90df-a813a3092a8b"
      },
      "outputs": [
        {
          "output_type": "stream",
          "name": "stdout",
          "text": [
            "Requirement already satisfied: tqdm in /usr/local/lib/python3.7/dist-packages (4.62.3)\n"
          ]
        }
      ],
      "source": [
        "!pip install tqdm\n",
        "import random, tqdm"
      ]
    },
    {
      "cell_type": "markdown",
      "id": "63e86561",
      "metadata": {
        "id": "63e86561"
      },
      "source": [
        "### 1\n",
        "#### Create a regular hexagon\n",
        "\n",
        "> The equation for generating vertices of an n-sided polygon with sides of equal length L, angle of rotation A, and number of sides n is given by\n",
        "\n",
        "\n",
        "`x , y = Lcos((2πk/n)+A) , Lsin((2πk/n)+A)` for `k= 0, ..., n−1`.\n",
        "\n",
        "Source found [here](https://math.stackexchange.com/questions/3000209/equation-for-calculating-the-vertices-of-a-regular-polygon-given-a-line-segment)\n",
        "\n",
        "> The hexagon() function uses the formula above to generate these vertices which are essentially cordinates of the hexagon"
      ]
    },
    {
      "cell_type": "code",
      "execution_count": 3,
      "id": "d1e1f695",
      "metadata": {
        "id": "d1e1f695"
      },
      "outputs": [],
      "source": [
        "def hexagon(length, angle=0, center=(0, 0), n_sides=6):\n",
        "    coordinates = []\n",
        "    for n in range(n_sides):\n",
        "        x = length * np.cos(2*np.pi*n/n_sides + angle) + center[0]\n",
        "        y = length * np.sin(2*np.pi*n/n_sides + angle) + center[1]\n",
        "        coordinates.append((x, y))\n",
        "    coordinates.append(coordinates[0])\n",
        "    return coordinates"
      ]
    },
    {
      "cell_type": "code",
      "execution_count": 5,
      "id": "73b81ce1",
      "metadata": {
        "colab": {
          "base_uri": "https://localhost:8080/",
          "height": 320
        },
        "id": "73b81ce1",
        "outputId": "630dded9-4895-40df-a6ce-a64bd7a5919c"
      },
      "outputs": [
        {
          "output_type": "stream",
          "name": "stdout",
          "text": [
            "[(50.0, 0.0), (25.000000000000007, 43.30127018922193), (-24.99999999999999, 43.30127018922194), (-50.0, 6.123233995736766e-15), (-25.00000000000002, -43.30127018922192), (25.000000000000007, -43.30127018922193), (50.0, 0.0)]\n"
          ]
        },
        {
          "output_type": "execute_result",
          "data": {
            "text/plain": [
              "[<matplotlib.lines.Line2D at 0x7f8f03f5b050>]"
            ]
          },
          "metadata": {},
          "execution_count": 5
        },
        {
          "output_type": "display_data",
          "data": {
            "image/png": "[encoded data removed]",
            "text/plain": [
              "<Figure size 432x288 with 1 Axes>"
            ]
          },
          "metadata": {
            "needs_background": "light"
          }
        }
      ],
      "source": [
        "vertices = hexagon(50)\n",
        "x = np.array([i[0] for i in vertices])\n",
        "y = np.array([i[1] for i in vertices])\n",
        "print(vertices)\n",
        "plt.plot(x, y)"
      ]
    },
    {
      "cell_type": "markdown",
      "id": "2a32a8ba",
      "metadata": {
        "id": "2a32a8ba"
      },
      "source": [
        "###2\n",
        "#### Pick a random point, P, inside the hexagon. "
      ]
    },
    {
      "cell_type": "code",
      "execution_count": 6,
      "id": "14832836",
      "metadata": {
        "id": "14832836"
      },
      "outputs": [],
      "source": [
        "\n",
        "def random_point(x, y, boundary=15):\n",
        "  # function creates a random point within the boundary of the hexagon\n",
        "  x_min, x_max = np.min(x)+boundary, np.max(x)-boundary\n",
        "  y_min, y_max = np.min(y)+boundary, np.max(y)-boundary\n",
        "  P_x = np.random.randint(x_min, x_max)\n",
        "  P_y = np.random.randint(y_min, y_max)\n",
        "  return P_x, P_y"
      ]
    },
    {
      "cell_type": "markdown",
      "id": "d789cbcf",
      "metadata": {
        "id": "d789cbcf"
      },
      "source": [
        "###3\n",
        "#### Make a triangle, T, by randomly connecting P to two adjacent vertices of the hexagon"
      ]
    },
    {
      "cell_type": "code",
      "execution_count": 7,
      "id": "8b6e7a2f",
      "metadata": {
        "colab": {
          "base_uri": "https://localhost:8080/"
        },
        "id": "8b6e7a2f",
        "outputId": "af04426d-f92e-44a8-dbef-153985828f35"
      },
      "outputs": [
        {
          "output_type": "stream",
          "name": "stdout",
          "text": [
            "distance of vertex 0 from vertex 1 is: 50.0\n",
            "distance of vertex 1 from vertex 2 is: 50.0\n",
            "distance of vertex 2 from vertex 3 is: 50.0\n",
            "distance of vertex 3 from vertex 4 is: 50.0\n",
            "distance of vertex 4 from vertex 5 is: 50.0\n",
            "distance of vertex 5 from vertex 6 is: 50.0\n"
          ]
        }
      ],
      "source": [
        "def euclidean_distance(x0, x1, y0, y1):\n",
        "  #function calculates distance betwen two points with cordinates (x,y)\n",
        "  return round(np.sqrt((x0-x1)**2 + (y0-y1)**2), 4)\n",
        "\n",
        "for i in range(len(vertices)):\n",
        "  if i == len(vertices)-1:\n",
        "      continue\n",
        "  distance = euclidean_distance(vertices[i][0], vertices[i+1][0], vertices[i][1], vertices[i+1][1])\n",
        "  print(f'distance of vertex {i} from vertex {i+1} is: {distance}')"
      ]
    },
    {
      "cell_type": "code",
      "execution_count": 8,
      "id": "6e604b99",
      "metadata": {
        "id": "6e604b99"
      },
      "outputs": [],
      "source": [
        "# creating a function for selecting random vertices and ensuring that distance between the vertices is equal to euclidean distance between two adjacent vertices\n",
        "def rand_vertice_idx(x, y, vertex_idx):\n",
        "    random_idx = random.choice(list(enumerate(y)))[0]\n",
        "    while True:\n",
        "        if euclidean_distance(x[vertex_idx], x[random_idx], y[vertex_idx], y[random_idx]) != distance:\n",
        "            random_idx = random.choice(list(enumerate(y)))[0]\n",
        "        else:\n",
        "            break\n",
        "    return random_idx"
      ]
    },
    {
      "cell_type": "code",
      "execution_count": 9,
      "id": "09be9934",
      "metadata": {
        "colab": {
          "base_uri": "https://localhost:8080/",
          "height": 387
        },
        "id": "09be9934",
        "outputId": "376b140e-70e8-4209-fb84-98b7f01df2e6"
      },
      "outputs": [
        {
          "output_type": "stream",
          "name": "stdout",
          "text": [
            "P: (-14, 12)\n",
            "[ 50.  25. -25. -50. -25.  25.  50.] [ 0.00000000e+00  4.33012702e+01  4.33012702e+01  6.12323400e-15\n",
            " -4.33012702e+01 -4.33012702e+01  0.00000000e+00]\n",
            "[ 50.  25. -25. -50. -25.  25.  50. -14.  25.] [ 0.00000000e+00  4.33012702e+01  4.33012702e+01  6.12323400e-15\n",
            " -4.33012702e+01 -4.33012702e+01  0.00000000e+00  1.20000000e+01\n",
            " -4.33012702e+01]\n"
          ]
        },
        {
          "output_type": "execute_result",
          "data": {
            "text/plain": [
              "[<matplotlib.lines.Line2D at 0x7f8f03a3a4d0>]"
            ]
          },
          "metadata": {},
          "execution_count": 9
        },
        {
          "output_type": "display_data",
          "data": {
            "image/png": "[encoded data removed]",
            "text/plain": [
              "<Figure size 432x288 with 1 Axes>"
            ]
          },
          "metadata": {
            "needs_background": "light"
          }
        }
      ],
      "source": [
        "rand_idx = rand_vertice_idx(x, y, -1)\n",
        "P_x, P_y = random_point(x, y)\n",
        "x_new, y_new = np.append(x, P_x), np.append(y, P_y)\n",
        "x_new, y_new = np.append(x_new, x[rand_idx]), np.append(y_new, y[rand_idx])\n",
        "\n",
        "print(f'P: {(P_x, P_y)}')\n",
        "print(x,y)\n",
        "print(x_new,y_new)\n",
        "plt.plot(x_new,y_new)"
      ]
    },
    {
      "cell_type": "markdown",
      "source": [
        "###4\n",
        "#### Computing the centroid of T which becomes the new random point, P. \n",
        ">Repeat previous step 10,000 times. \n",
        "\n"
      ],
      "metadata": {
        "id": "SvMr19eklnnr"
      },
      "id": "SvMr19eklnnr"
    },
    {
      "cell_type": "code",
      "execution_count": 10,
      "id": "6171cdfc",
      "metadata": {
        "colab": {
          "base_uri": "https://localhost:8080/"
        },
        "id": "6171cdfc",
        "outputId": "c043148c-97df-456a-ec0d-95f6953213f2"
      },
      "outputs": [
        {
          "output_type": "stream",
          "name": "stderr",
          "text": [
            "100%|██████████| 10000/10000 [00:00<00:00, 13776.46it/s]\n"
          ]
        }
      ],
      "source": [
        "\n",
        "def vertices(x, y):\n",
        "    v1_randidx = random.choice(list(enumerate(x)))[0]\n",
        "    v1 = x[v1_randidx], y[v1_randidx]\n",
        "    v2_randidx = rand_vertice_idx(x, y, v1_randidx)\n",
        "    v2 = x[v2_randidx], y[v2_randidx]\n",
        "    return v1, v2\n",
        "\n",
        "\n",
        "centroids = []\n",
        "\n",
        "for i in tqdm.tqdm(range(10000)):\n",
        "    v1, v2 = vertices(x, y)\n",
        "    P = (P_x, P_y)\n",
        "    x_vals = np.array([v1[0], v2[0], P[0]])\n",
        "    y_vals = np.array([v1[1], v2[1], P[1]])\n",
        "    centroid = np.sum(x_vals)/3, np.sum(y_vals)/3\n",
        "    centroids.append(centroid)\n",
        "    P = centroid\n"
      ]
    },
    {
      "cell_type": "markdown",
      "source": [
        "###5\n",
        "#### Making a scatter plot of all  10,000 random points"
      ],
      "metadata": {
        "id": "846_LG6XlvlE"
      },
      "id": "846_LG6XlvlE"
    },
    {
      "cell_type": "code",
      "execution_count": 11,
      "id": "7a4acc90",
      "metadata": {
        "colab": {
          "base_uri": "https://localhost:8080/",
          "height": 282
        },
        "id": "7a4acc90",
        "outputId": "4d091f41-9ab6-4be9-e743-d2676fdb23b7"
      },
      "outputs": [
        {
          "output_type": "execute_result",
          "data": {
            "text/plain": [
              "[<matplotlib.lines.Line2D at 0x7f8f036401d0>]"
            ]
          },
          "metadata": {},
          "execution_count": 11
        },
        {
          "output_type": "display_data",
          "data": {
            "image/png": "[encoded data removed]",
            "text/plain": [
              "<Figure size 432x288 with 1 Axes>"
            ]
          },
          "metadata": {
            "needs_background": "light"
          }
        }
      ],
      "source": [
        "x_centroids = np.array([i[0] for i in centroids])\n",
        "\n",
        "y_centroids = np.array([i[1] for i in centroids])\n",
        "\n",
        "plt.plot(x_centroids, y_centroids)"
      ]
    },
    {
      "cell_type": "markdown",
      "source": [
        ">>Resulting image looks like a combinatronics representation"
      ],
      "metadata": {
        "id": "ZBtGuWItmkOA"
      },
      "id": "ZBtGuWItmkOA"
    }
  ],
  "metadata": {
    "kernelspec": {
      "display_name": "Python 3",
      "language": "python",
      "name": "python3"
    },
    "language_info": {
      "codemirror_mode": {
        "name": "ipython",
        "version": 3
      },
      "file_extension": ".py",
      "mimetype": "text/x-python",
      "name": "python",
      "nbconvert_exporter": "python",
      "pygments_lexer": "ipython3",
      "version": "3.8.8"
    },
    "colab": {
      "name": "DSI Pre-Assignment (Python).ipynb",
      "provenance": [],
      "include_colab_link": true
    }
  },
  "nbformat": 4,
  "nbformat_minor": 5
}